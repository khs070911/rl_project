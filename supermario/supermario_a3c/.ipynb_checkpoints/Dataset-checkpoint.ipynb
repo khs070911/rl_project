{
 "cells": [
  {
   "cell_type": "code",
   "execution_count": 6,
   "id": "ab2b16f7-1ddf-4727-af1f-82e71b5ea128",
   "metadata": {},
   "outputs": [],
   "source": [
    "import numpy as np\n",
    "import pandas as pd"
   ]
  },
  {
   "cell_type": "code",
   "execution_count": 7,
   "id": "c2a8ae50-78f6-4642-8e3b-7176197c0d54",
   "metadata": {},
   "outputs": [],
   "source": [
    "data_path = '/home/hskim/source/origin/det_train3.CSV'\n",
    "data = pd.read_csv(data_path)\n",
    "\n",
    "event_cnt = data['event_id'].value_counts().reset_index()\n",
    "event_cnt = event_cnt.rename(columns={'index':'event_id', 'event_id':'freq'})\n",
    "data = data.merge(event_cnt, on='event_id')\n",
    "\n",
    "data = data.drop_duplicates().reset_index(drop=True)"
   ]
  },
  {
   "cell_type": "code",
   "execution_count": 3,
   "id": "15a0bf79-bed5-4696-950e-8acbeac745e4",
   "metadata": {},
   "outputs": [],
   "source": [
    "df = data.copy(deep=True)"
   ]
  },
  {
   "cell_type": "code",
   "execution_count": 6,
   "id": "8c71e542-4af8-44e2-bb7a-0501b846f54b",
   "metadata": {},
   "outputs": [],
   "source": [
    "iter_cnt = 5000\n",
    "features = ['event_id', 'risk', 'freq', 'pp_mtime', 'pp_stime', 'score']\n",
    "\n",
    "train = None\n",
    "total_sampling_size = 0\n",
    "for i in range(iter_cnt):\n",
    "    sample_size = 10 #np.random.randint(low=5, high=10)\n",
    "    sampling_data = df.sample(sample_size)[features]\n",
    "    sampling_data['collection_id'] = i\n",
    "    train = pd.concat([train, sampling_data], axis=0, ignore_index=True)"
   ]
  },
  {
   "cell_type": "code",
   "execution_count": 7,
   "id": "7e26c7dc-c2bd-48c7-a0c1-15b979a128d6",
   "metadata": {},
   "outputs": [
    {
     "data": {
      "text/html": [
       "<div>\n",
       "<style scoped>\n",
       "    .dataframe tbody tr th:only-of-type {\n",
       "        vertical-align: middle;\n",
       "    }\n",
       "\n",
       "    .dataframe tbody tr th {\n",
       "        vertical-align: top;\n",
       "    }\n",
       "\n",
       "    .dataframe thead th {\n",
       "        text-align: right;\n",
       "    }\n",
       "</style>\n",
       "<table border=\"1\" class=\"dataframe\">\n",
       "  <thead>\n",
       "    <tr style=\"text-align: right;\">\n",
       "      <th></th>\n",
       "      <th>event_id</th>\n",
       "      <th>risk</th>\n",
       "      <th>freq</th>\n",
       "      <th>pp_mtime</th>\n",
       "      <th>pp_stime</th>\n",
       "      <th>score</th>\n",
       "      <th>collection_id</th>\n",
       "    </tr>\n",
       "  </thead>\n",
       "  <tbody>\n",
       "    <tr>\n",
       "      <th>0</th>\n",
       "      <td>cheditor</td>\n",
       "      <td>7.0</td>\n",
       "      <td>4</td>\n",
       "      <td>8</td>\n",
       "      <td>9</td>\n",
       "      <td>110</td>\n",
       "      <td>0</td>\n",
       "    </tr>\n",
       "    <tr>\n",
       "      <th>1</th>\n",
       "      <td>flood</td>\n",
       "      <td>7.0</td>\n",
       "      <td>5</td>\n",
       "      <td>11</td>\n",
       "      <td>12</td>\n",
       "      <td>176</td>\n",
       "      <td>0</td>\n",
       "    </tr>\n",
       "    <tr>\n",
       "      <th>2</th>\n",
       "      <td>sql</td>\n",
       "      <td>7.0</td>\n",
       "      <td>93</td>\n",
       "      <td>16</td>\n",
       "      <td>46</td>\n",
       "      <td>147</td>\n",
       "      <td>0</td>\n",
       "    </tr>\n",
       "    <tr>\n",
       "      <th>3</th>\n",
       "      <td>drupal</td>\n",
       "      <td>7.0</td>\n",
       "      <td>75</td>\n",
       "      <td>3</td>\n",
       "      <td>58</td>\n",
       "      <td>123</td>\n",
       "      <td>0</td>\n",
       "    </tr>\n",
       "    <tr>\n",
       "      <th>4</th>\n",
       "      <td>E031</td>\n",
       "      <td>7.6</td>\n",
       "      <td>23</td>\n",
       "      <td>15</td>\n",
       "      <td>58</td>\n",
       "      <td>149</td>\n",
       "      <td>0</td>\n",
       "    </tr>\n",
       "  </tbody>\n",
       "</table>\n",
       "</div>"
      ],
      "text/plain": [
       "   event_id  risk  freq  pp_mtime  pp_stime  score  collection_id\n",
       "0  cheditor   7.0     4         8         9    110              0\n",
       "1     flood   7.0     5        11        12    176              0\n",
       "2       sql   7.0    93        16        46    147              0\n",
       "3    drupal   7.0    75         3        58    123              0\n",
       "4      E031   7.6    23        15        58    149              0"
      ]
     },
     "execution_count": 7,
     "metadata": {},
     "output_type": "execute_result"
    }
   ],
   "source": [
    "train.head()"
   ]
  },
  {
   "cell_type": "code",
   "execution_count": 8,
   "id": "030f4e15-5603-465f-8175-583aa9598163",
   "metadata": {},
   "outputs": [],
   "source": [
    "train.to_csv(\"data/det_priority_train.csv\", index=False)"
   ]
  },
  {
   "cell_type": "code",
   "execution_count": null,
   "id": "95461fa7-f263-4219-bba7-c835d444ada4",
   "metadata": {},
   "outputs": [],
   "source": []
  },
  {
   "cell_type": "code",
   "execution_count": null,
   "id": "d13f44da-b8e9-47a8-b30c-295315afc599",
   "metadata": {},
   "outputs": [],
   "source": []
  },
  {
   "cell_type": "code",
   "execution_count": null,
   "id": "f2695028-395d-440a-9975-edb422bf8afa",
   "metadata": {},
   "outputs": [],
   "source": []
  },
  {
   "cell_type": "markdown",
   "id": "1910fbfa-2150-40f9-bad1-b52abb99009d",
   "metadata": {},
   "source": [
    "### 데이터 확인"
   ]
  },
  {
   "cell_type": "code",
   "execution_count": 5,
   "id": "df32b0e3-8800-4f2f-b1e3-d92457a3060e",
   "metadata": {},
   "outputs": [],
   "source": [
    "import pandas as pd"
   ]
  },
  {
   "cell_type": "code",
   "execution_count": 6,
   "id": "7620bef8-ff15-4f4e-aab5-98d32147206d",
   "metadata": {},
   "outputs": [],
   "source": [
    "data = pd.read_csv(\"data/det_priority_train.csv\")"
   ]
  },
  {
   "cell_type": "code",
   "execution_count": 13,
   "id": "765285db-9bef-49fc-80b3-bd6b10addc8c",
   "metadata": {},
   "outputs": [],
   "source": [
    "check = data[data['event_id'].apply(lambda x : 'E' in x)]"
   ]
  },
  {
   "cell_type": "code",
   "execution_count": 15,
   "id": "c540d8b3-5af3-4b6b-9714-873deaaf9511",
   "metadata": {},
   "outputs": [
    {
     "data": {
      "text/html": [
       "<div>\n",
       "<style scoped>\n",
       "    .dataframe tbody tr th:only-of-type {\n",
       "        vertical-align: middle;\n",
       "    }\n",
       "\n",
       "    .dataframe tbody tr th {\n",
       "        vertical-align: top;\n",
       "    }\n",
       "\n",
       "    .dataframe thead th {\n",
       "        text-align: right;\n",
       "    }\n",
       "</style>\n",
       "<table border=\"1\" class=\"dataframe\">\n",
       "  <thead>\n",
       "    <tr style=\"text-align: right;\">\n",
       "      <th></th>\n",
       "      <th>event_id</th>\n",
       "      <th>risk</th>\n",
       "      <th>freq</th>\n",
       "      <th>pp_mtime</th>\n",
       "      <th>pp_stime</th>\n",
       "      <th>score</th>\n",
       "      <th>collection_id</th>\n",
       "    </tr>\n",
       "  </thead>\n",
       "  <tbody>\n",
       "    <tr>\n",
       "      <th>4</th>\n",
       "      <td>E031</td>\n",
       "      <td>7.6</td>\n",
       "      <td>23</td>\n",
       "      <td>15</td>\n",
       "      <td>58</td>\n",
       "      <td>149</td>\n",
       "      <td>0</td>\n",
       "    </tr>\n",
       "    <tr>\n",
       "      <th>5</th>\n",
       "      <td>E033</td>\n",
       "      <td>5.8</td>\n",
       "      <td>2</td>\n",
       "      <td>7</td>\n",
       "      <td>36</td>\n",
       "      <td>181</td>\n",
       "      <td>0</td>\n",
       "    </tr>\n",
       "    <tr>\n",
       "      <th>7</th>\n",
       "      <td>E034</td>\n",
       "      <td>5.8</td>\n",
       "      <td>101</td>\n",
       "      <td>23</td>\n",
       "      <td>21</td>\n",
       "      <td>157</td>\n",
       "      <td>0</td>\n",
       "    </tr>\n",
       "    <tr>\n",
       "      <th>21</th>\n",
       "      <td>E022</td>\n",
       "      <td>7.0</td>\n",
       "      <td>35</td>\n",
       "      <td>15</td>\n",
       "      <td>23</td>\n",
       "      <td>181</td>\n",
       "      <td>2</td>\n",
       "    </tr>\n",
       "    <tr>\n",
       "      <th>45</th>\n",
       "      <td>E035</td>\n",
       "      <td>5.8</td>\n",
       "      <td>11</td>\n",
       "      <td>11</td>\n",
       "      <td>35</td>\n",
       "      <td>160</td>\n",
       "      <td>4</td>\n",
       "    </tr>\n",
       "  </tbody>\n",
       "</table>\n",
       "</div>"
      ],
      "text/plain": [
       "   event_id  risk  freq  pp_mtime  pp_stime  score  collection_id\n",
       "4      E031   7.6    23        15        58    149              0\n",
       "5      E033   5.8     2         7        36    181              0\n",
       "7      E034   5.8   101        23        21    157              0\n",
       "21     E022   7.0    35        15        23    181              2\n",
       "45     E035   5.8    11        11        35    160              4"
      ]
     },
     "execution_count": 15,
     "metadata": {},
     "output_type": "execute_result"
    }
   ],
   "source": [
    "check.drop_duplicates(subset=['event_id'])"
   ]
  },
  {
   "cell_type": "markdown",
   "id": "4b523210-ac5d-4a87-9937-9c80754c5f67",
   "metadata": {},
   "source": [
    "#### 어차피 환경 모델에서 주어진 템플릿에서 데이터를 끌어오기 때문에 학습 데이터에는 risk 및 playtime 정보가 들어가지 않아도 됨"
   ]
  },
  {
   "cell_type": "markdown",
   "id": "1d2ba2b1-1e13-4273-a2b1-04742b8b9981",
   "metadata": {},
   "source": [
    "# 데이터 재생성"
   ]
  },
  {
   "cell_type": "code",
   "execution_count": 1,
   "id": "6aad5665-6d9a-4e0a-916a-c4a7a15af93c",
   "metadata": {},
   "outputs": [],
   "source": [
    "import ast, random, pickle\n",
    "import pandas as pd\n",
    "from itertools import combinations\n",
    "from tqdm import tqdm"
   ]
  },
  {
   "cell_type": "code",
   "execution_count": 2,
   "id": "9ba9a55a-4e06-4e33-8c72-20e96cf8e5be",
   "metadata": {},
   "outputs": [],
   "source": [
    "evt_data = open('templates/event_handling_priority/event_state.json', 'r').read()"
   ]
  },
  {
   "cell_type": "code",
   "execution_count": 3,
   "id": "a6222ccd-d8af-4715-970f-e42bde8ea748",
   "metadata": {},
   "outputs": [],
   "source": [
    "evt_data = list(ast.literal_eval(evt_data).keys())"
   ]
  },
  {
   "cell_type": "code",
   "execution_count": 5,
   "id": "f2f6e406-64a8-475c-bd7f-c70fce527da5",
   "metadata": {},
   "outputs": [
    {
     "data": {
      "text/plain": [
       "35"
      ]
     },
     "execution_count": 5,
     "metadata": {},
     "output_type": "execute_result"
    }
   ],
   "source": [
    "len(set(evt_data))"
   ]
  },
  {
   "cell_type": "code",
   "execution_count": 6,
   "id": "74c9b32a-6c22-4feb-ae05-36172410a462",
   "metadata": {},
   "outputs": [],
   "source": [
    "combi_data = combinations(evt_data, 10)"
   ]
  },
  {
   "cell_type": "code",
   "execution_count": 7,
   "id": "0225c384-63c5-4186-a135-68829f2d0c3b",
   "metadata": {},
   "outputs": [
    {
     "name": "stderr",
     "output_type": "stream",
     "text": [
      "183579396it [00:46, 3923386.94it/s]\n"
     ]
    }
   ],
   "source": [
    "train_data = []\n",
    "for val in tqdm(combi_data):\n",
    "    train_data.append(val)"
   ]
  },
  {
   "cell_type": "code",
   "execution_count": 34,
   "id": "5aaf727d-d77b-4ad6-8619-a8a13c0ae55c",
   "metadata": {},
   "outputs": [],
   "source": [
    "real_train_data = random.sample(train_data, k=5000)"
   ]
  },
  {
   "cell_type": "code",
   "execution_count": 35,
   "id": "33313f9a-a5f7-4d7a-b9fe-87a657ec6140",
   "metadata": {},
   "outputs": [
    {
     "data": {
      "text/plain": [
       "5000"
      ]
     },
     "execution_count": 35,
     "metadata": {},
     "output_type": "execute_result"
    }
   ],
   "source": [
    "len(real_train_data)"
   ]
  },
  {
   "cell_type": "code",
   "execution_count": 8,
   "id": "f701e855-4a1a-478c-9f67-e45b2d81a3b7",
   "metadata": {},
   "outputs": [],
   "source": [
    "del train_data"
   ]
  },
  {
   "cell_type": "code",
   "execution_count": 39,
   "id": "37ee73d8-a433-47d8-a558-1439b2adf12a",
   "metadata": {},
   "outputs": [],
   "source": [
    "train_df = None\n",
    "\n",
    "for idx, data in enumerate(real_train_data):\n",
    "    tmp = [[idx, evt] for evt in data]\n",
    "    tmp_df = pd.DataFrame(tmp, columns = ['collection_id', 'event_id'])\n",
    "    train_df = pd.concat([train_df, tmp_df], axis=0, ignore_index=True)"
   ]
  },
  {
   "cell_type": "code",
   "execution_count": 41,
   "id": "a7d82a8c-7639-45c6-b4f8-1e0c953bdfdd",
   "metadata": {},
   "outputs": [
    {
     "data": {
      "text/plain": [
       "(50000, 2)"
      ]
     },
     "execution_count": 41,
     "metadata": {},
     "output_type": "execute_result"
    }
   ],
   "source": [
    "train_df.shape"
   ]
  },
  {
   "cell_type": "code",
   "execution_count": 42,
   "id": "e154bc43-c9f1-4610-a6e2-d48bfba2a800",
   "metadata": {},
   "outputs": [],
   "source": [
    "train_df.to_csv(\"data/det_priority_train.csv\", index=False)"
   ]
  },
  {
   "cell_type": "code",
   "execution_count": null,
   "id": "d42a41c4-a584-4834-bedc-afa1d11a1639",
   "metadata": {},
   "outputs": [],
   "source": []
  },
  {
   "cell_type": "code",
   "execution_count": null,
   "id": "8431c6ee-43ad-47d9-a56c-cee217288418",
   "metadata": {},
   "outputs": [],
   "source": []
  },
  {
   "cell_type": "code",
   "execution_count": null,
   "id": "19af01db-fa31-4e75-8efb-ef7280d4bc58",
   "metadata": {},
   "outputs": [],
   "source": []
  },
  {
   "cell_type": "code",
   "execution_count": null,
   "id": "0811de58-16ea-424e-bfd6-5d77be0640a1",
   "metadata": {},
   "outputs": [],
   "source": []
  },
  {
   "cell_type": "code",
   "execution_count": null,
   "id": "d88e16f2-4c31-45d7-b761-841662a9bb00",
   "metadata": {},
   "outputs": [],
   "source": []
  },
  {
   "cell_type": "markdown",
   "id": "45beaf89-8f3a-428a-a47d-c3fd38f8f92b",
   "metadata": {},
   "source": [
    "### environment 확인"
   ]
  },
  {
   "cell_type": "code",
   "execution_count": 1,
   "id": "0e460f23-7fd2-40e9-9b3f-6250a8af6770",
   "metadata": {},
   "outputs": [],
   "source": [
    "from Environment import EventEnvironment"
   ]
  },
  {
   "cell_type": "code",
   "execution_count": 2,
   "id": "14df7306-2274-467c-805e-669df3135c0c",
   "metadata": {},
   "outputs": [],
   "source": [
    "env = EventEnvironment()"
   ]
  },
  {
   "cell_type": "code",
   "execution_count": 4,
   "id": "5a5cc695-f824-4fdf-ac65-f2c348128c27",
   "metadata": {},
   "outputs": [
    {
     "data": {
      "text/plain": [
       "(array([[[ 0.        ,  0.        ,  0.        ,  0.        ],\n",
       "         [ 0.        ,  0.        ,  0.        ,  0.        ],\n",
       "         [ 0.        ,  0.        ,  0.        ,  0.        ],\n",
       "         [ 7.        , 12.        , 45.        ,  0.        ],\n",
       "         [ 0.        ,  0.        ,  0.        ,  0.        ],\n",
       "         [ 0.        ,  0.        ,  0.        ,  0.        ],\n",
       "         [ 0.        ,  0.        ,  0.        ,  0.        ],\n",
       "         [ 0.        ,  0.        ,  0.        ,  0.        ],\n",
       "         [ 0.        ,  0.        ,  0.        ,  0.        ],\n",
       "         [ 0.        ,  0.        ,  0.        ,  0.        ],\n",
       "         [ 0.        ,  0.        ,  0.        ,  0.        ],\n",
       "         [ 0.        ,  0.        ,  0.        ,  0.        ],\n",
       "         [ 0.        ,  0.        ,  0.        ,  0.        ],\n",
       "         [ 0.        ,  0.        ,  0.        ,  0.        ],\n",
       "         [ 0.        ,  0.        ,  0.        ,  0.        ],\n",
       "         [ 0.        ,  0.        ,  0.        ,  0.        ],\n",
       "         [ 7.6       , 10.        , 24.        ,  0.        ],\n",
       "         [ 7.        , 13.        , 42.73026316,  0.        ],\n",
       "         [ 0.        ,  0.        ,  0.        ,  0.        ],\n",
       "         [ 0.        ,  0.        ,  0.        ,  0.        ],\n",
       "         [ 7.6       , 21.        ,  9.        ,  0.        ],\n",
       "         [ 7.        ,  2.        , 20.        ,  0.        ],\n",
       "         [ 7.6       , 12.        ,  3.        ,  0.        ],\n",
       "         [ 0.        ,  0.        ,  0.        ,  0.        ],\n",
       "         [ 0.        ,  0.        ,  0.        ,  0.        ],\n",
       "         [ 0.        ,  0.        ,  0.        ,  0.        ],\n",
       "         [ 7.6       , 11.        , 42.68571429,  0.        ],\n",
       "         [ 0.        ,  0.        ,  0.        ,  0.        ],\n",
       "         [ 0.        ,  0.        ,  0.        ,  0.        ],\n",
       "         [ 7.        , 12.        , 50.23809524,  0.        ],\n",
       "         [ 0.        ,  0.        ,  0.        ,  0.        ],\n",
       "         [ 0.        ,  0.        ,  0.        ,  0.        ],\n",
       "         [ 7.6       , 12.        , 51.15789474,  0.        ],\n",
       "         [ 7.6       , 13.        , 28.74910394,  0.        ],\n",
       "         [ 0.        ,  0.        ,  0.        ,  0.        ]]]),\n",
       " 0,\n",
       " False)"
      ]
     },
     "execution_count": 4,
     "metadata": {},
     "output_type": "execute_result"
    }
   ],
   "source": [
    "env.reset()"
   ]
  },
  {
   "cell_type": "code",
   "execution_count": null,
   "id": "32ed2753-3d8d-418d-a7f3-b2a4d492ff1c",
   "metadata": {},
   "outputs": [],
   "source": []
  },
  {
   "cell_type": "code",
   "execution_count": null,
   "id": "390b7769-58fa-4359-a3f2-62a9a2899ac1",
   "metadata": {},
   "outputs": [],
   "source": []
  }
 ],
 "metadata": {
  "kernelspec": {
   "display_name": "env",
   "language": "python",
   "name": "env"
  },
  "language_info": {
   "codemirror_mode": {
    "name": "ipython",
    "version": 3
   },
   "file_extension": ".py",
   "mimetype": "text/x-python",
   "name": "python",
   "nbconvert_exporter": "python",
   "pygments_lexer": "ipython3",
   "version": "3.9.13"
  }
 },
 "nbformat": 4,
 "nbformat_minor": 5
}
