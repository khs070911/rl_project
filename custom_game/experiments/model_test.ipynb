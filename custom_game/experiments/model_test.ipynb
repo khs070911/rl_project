{
 "cells": [
  {
   "cell_type": "code",
   "execution_count": 1,
   "metadata": {},
   "outputs": [
    {
     "name": "stdout",
     "output_type": "stream",
     "text": [
      "pygame 2.5.2 (SDL 2.28.3, Python 3.9.19)\n",
      "Hello from the pygame community. https://www.pygame.org/contribute.html\n"
     ]
    },
    {
     "data": {
      "text/plain": [
       "(5, 0)"
      ]
     },
     "execution_count": 1,
     "metadata": {},
     "output_type": "execute_result"
    }
   ],
   "source": [
    "import pygame\n",
    "from environment_rl import make_env\n",
    "\n",
    "import torch.nn as nn\n",
    "from tensordict.nn import TensorDictModule\n",
    "from torchrl.modules import ProbabilisticActor\n",
    "\n",
    "pygame.init()"
   ]
  },
  {
   "cell_type": "code",
   "execution_count": 2,
   "metadata": {},
   "outputs": [
    {
     "name": "stderr",
     "output_type": "stream",
     "text": [
      "/Users/kimhyeonseong/miniconda3/envs/game/lib/python3.9/site-packages/torch/nn/modules/lazy.py:181: UserWarning: Lazy modules are a new feature under heavy development so changes to the API or functionality can happen at any moment.\n",
      "  warnings.warn('Lazy modules are a new feature under heavy development '\n"
     ]
    }
   ],
   "source": [
    "actor_net = nn.Sequential(\n",
    "    nn.LazyConv2d(32, kernel_size=3, stride=3),\n",
    "    nn.ELU(),\n",
    "    nn.LazyConv2d(32, kernel_size=3, stride=3),\n",
    "    nn.ELU(),\n",
    "    nn.LazyConv2d(32, kernel_size=3, stride=3),\n",
    "    nn.Flatten(),\n",
    "    nn.LazyLinear(64),\n",
    "    nn.ELU(),\n",
    "    nn.LazyLinear(6),\n",
    "    nn.Softmax()\n",
    ")"
   ]
  },
  {
   "cell_type": "code",
   "execution_count": 3,
   "metadata": {},
   "outputs": [],
   "source": [
    "policy_module = TensorDictModule(\n",
    "    actor_net,\n",
    "    in_keys=[\"obs\"],\n",
    "    out_keys=[\"one_hot\"]\n",
    ")"
   ]
  },
  {
   "cell_type": "code",
   "execution_count": 4,
   "metadata": {},
   "outputs": [],
   "source": [
    "env = make_env()\n",
    "env.transform[0].init_stats(num_iter=2, cat_dim=0)"
   ]
  },
  {
   "cell_type": "code",
   "execution_count": 5,
   "metadata": {},
   "outputs": [
    {
     "ename": "RuntimeError",
     "evalue": "The size of tensor a (140) must match the size of tensor b (141) at non-singleton dimension 1",
     "output_type": "error",
     "traceback": [
      "\u001b[0;31m---------------------------------------------------------------------------\u001b[0m",
      "\u001b[0;31mRuntimeError\u001b[0m                              Traceback (most recent call last)",
      "Cell \u001b[0;32mIn[5], line 1\u001b[0m\n\u001b[0;32m----> 1\u001b[0m env\u001b[39m.\u001b[39;49maction_spec\n",
      "File \u001b[0;32m~/miniconda3/envs/game/lib/python3.9/site-packages/torchrl/envs/common.py:688\u001b[0m, in \u001b[0;36mEnvBase.action_spec\u001b[0;34m(self)\u001b[0m\n\u001b[1;32m    615\u001b[0m \u001b[39m\u001b[39m\u001b[39m\"\"\"The ``action`` spec.\u001b[39;00m\n\u001b[1;32m    616\u001b[0m \n\u001b[1;32m    617\u001b[0m \u001b[39mThe ``action_spec`` is always stored as a composite spec.\u001b[39;00m\n\u001b[0;32m   (...)\u001b[0m\n\u001b[1;32m    685\u001b[0m \u001b[39m        domain=continuous)\u001b[39;00m\n\u001b[1;32m    686\u001b[0m \u001b[39m\"\"\"\u001b[39;00m\n\u001b[1;32m    687\u001b[0m \u001b[39mtry\u001b[39;00m:\n\u001b[0;32m--> 688\u001b[0m     action_spec \u001b[39m=\u001b[39m \u001b[39mself\u001b[39;49m\u001b[39m.\u001b[39;49minput_spec[\u001b[39m\"\u001b[39m\u001b[39mfull_action_spec\u001b[39m\u001b[39m\"\u001b[39m]\n\u001b[1;32m    689\u001b[0m \u001b[39mexcept\u001b[39;00m (\u001b[39mKeyError\u001b[39;00m, \u001b[39mAttributeError\u001b[39;00m):\n\u001b[1;32m    690\u001b[0m     \u001b[39mraise\u001b[39;00m \u001b[39mKeyError\u001b[39;00m(\u001b[39m\"\u001b[39m\u001b[39mFailed to find the action_spec.\u001b[39m\u001b[39m\"\u001b[39m)\n",
      "File \u001b[0;32m~/miniconda3/envs/game/lib/python3.9/site-packages/torchrl/envs/transforms/transforms.py:726\u001b[0m, in \u001b[0;36mTransformedEnv.input_spec\u001b[0;34m(self)\u001b[0m\n\u001b[1;32m    723\u001b[0m \u001b[39msuper\u001b[39m()\u001b[39m.\u001b[39mempty_cache()\n\u001b[1;32m    725\u001b[0m input_spec\u001b[39m.\u001b[39munlock_()\n\u001b[0;32m--> 726\u001b[0m input_spec \u001b[39m=\u001b[39m \u001b[39mself\u001b[39;49m\u001b[39m.\u001b[39;49mtransform\u001b[39m.\u001b[39;49mtransform_input_spec(input_spec)\n\u001b[1;32m    727\u001b[0m input_spec\u001b[39m.\u001b[39mlock_()\n\u001b[1;32m    728\u001b[0m \u001b[39mif\u001b[39;00m \u001b[39mself\u001b[39m\u001b[39m.\u001b[39mcache_specs:\n",
      "File \u001b[0;32m~/miniconda3/envs/game/lib/python3.9/site-packages/torchrl/envs/transforms/transforms.py:998\u001b[0m, in \u001b[0;36mCompose.transform_input_spec\u001b[0;34m(self, input_spec)\u001b[0m\n\u001b[1;32m    996\u001b[0m \u001b[39mdef\u001b[39;00m \u001b[39mtransform_input_spec\u001b[39m(\u001b[39mself\u001b[39m, input_spec: TensorSpec) \u001b[39m-\u001b[39m\u001b[39m>\u001b[39m TensorSpec:\n\u001b[1;32m    997\u001b[0m     \u001b[39mfor\u001b[39;00m t \u001b[39min\u001b[39;00m \u001b[39mself\u001b[39m\u001b[39m.\u001b[39mtransforms[::\u001b[39m-\u001b[39m\u001b[39m1\u001b[39m]:\n\u001b[0;32m--> 998\u001b[0m         input_spec \u001b[39m=\u001b[39m t\u001b[39m.\u001b[39;49mtransform_input_spec(input_spec)\n\u001b[1;32m    999\u001b[0m     \u001b[39mreturn\u001b[39;00m input_spec\n",
      "File \u001b[0;32m~/miniconda3/envs/game/lib/python3.9/site-packages/torchrl/envs/transforms/transforms.py:5372\u001b[0m, in \u001b[0;36mStepCounter.transform_input_spec\u001b[0;34m(self, input_spec)\u001b[0m\n\u001b[1;32m   5367\u001b[0m \u001b[39mif\u001b[39;00m input_spec[\u001b[39m\"\u001b[39m\u001b[39mfull_state_spec\u001b[39m\u001b[39m\"\u001b[39m] \u001b[39mis\u001b[39;00m \u001b[39mNone\u001b[39;00m:\n\u001b[1;32m   5368\u001b[0m     input_spec[\u001b[39m\"\u001b[39m\u001b[39mfull_state_spec\u001b[39m\u001b[39m\"\u001b[39m] \u001b[39m=\u001b[39m CompositeSpec(\n\u001b[1;32m   5369\u001b[0m         shape\u001b[39m=\u001b[39minput_spec\u001b[39m.\u001b[39mshape, device\u001b[39m=\u001b[39minput_spec\u001b[39m.\u001b[39mdevice\n\u001b[1;32m   5370\u001b[0m     )\n\u001b[0;32m-> 5372\u001b[0m full_done_spec \u001b[39m=\u001b[39m \u001b[39mself\u001b[39;49m\u001b[39m.\u001b[39;49mparent\u001b[39m.\u001b[39;49moutput_spec[\u001b[39m\"\u001b[39m\u001b[39mfull_done_spec\u001b[39m\u001b[39m\"\u001b[39m]\n\u001b[1;32m   5373\u001b[0m \u001b[39mfor\u001b[39;00m step_count_key \u001b[39min\u001b[39;00m \u001b[39mself\u001b[39m\u001b[39m.\u001b[39mstep_count_keys:\n\u001b[1;32m   5374\u001b[0m     step_count_key \u001b[39m=\u001b[39m unravel_key(step_count_key)\n",
      "File \u001b[0;32m~/miniconda3/envs/game/lib/python3.9/site-packages/torchrl/envs/transforms/transforms.py:708\u001b[0m, in \u001b[0;36mTransformedEnv.output_spec\u001b[0;34m(self)\u001b[0m\n\u001b[1;32m    705\u001b[0m \u001b[39msuper\u001b[39m()\u001b[39m.\u001b[39mempty_cache()\n\u001b[1;32m    707\u001b[0m output_spec \u001b[39m=\u001b[39m output_spec\u001b[39m.\u001b[39munlock_()\n\u001b[0;32m--> 708\u001b[0m output_spec \u001b[39m=\u001b[39m \u001b[39mself\u001b[39;49m\u001b[39m.\u001b[39;49mtransform\u001b[39m.\u001b[39;49mtransform_output_spec(output_spec)\n\u001b[1;32m    709\u001b[0m output_spec\u001b[39m.\u001b[39mlock_()\n\u001b[1;32m    710\u001b[0m \u001b[39mif\u001b[39;00m \u001b[39mself\u001b[39m\u001b[39m.\u001b[39mcache_specs:\n",
      "File \u001b[0;32m~/miniconda3/envs/game/lib/python3.9/site-packages/torchrl/envs/transforms/transforms.py:1008\u001b[0m, in \u001b[0;36mCompose.transform_output_spec\u001b[0;34m(self, output_spec)\u001b[0m\n\u001b[1;32m   1006\u001b[0m \u001b[39mdef\u001b[39;00m \u001b[39mtransform_output_spec\u001b[39m(\u001b[39mself\u001b[39m, output_spec: TensorSpec) \u001b[39m-\u001b[39m\u001b[39m>\u001b[39m TensorSpec:\n\u001b[1;32m   1007\u001b[0m     \u001b[39mfor\u001b[39;00m t \u001b[39min\u001b[39;00m \u001b[39mself\u001b[39m\u001b[39m.\u001b[39mtransforms:\n\u001b[0;32m-> 1008\u001b[0m         output_spec \u001b[39m=\u001b[39m t\u001b[39m.\u001b[39;49mtransform_output_spec(output_spec)\n\u001b[1;32m   1009\u001b[0m     \u001b[39mreturn\u001b[39;00m output_spec\n",
      "File \u001b[0;32m~/miniconda3/envs/game/lib/python3.9/site-packages/torchrl/envs/transforms/transforms.py:364\u001b[0m, in \u001b[0;36mTransform.transform_output_spec\u001b[0;34m(self, output_spec)\u001b[0m\n\u001b[1;32m    352\u001b[0m \u001b[39m\u001b[39m\u001b[39m\"\"\"Transforms the output spec such that the resulting spec matches transform mapping.\u001b[39;00m\n\u001b[1;32m    353\u001b[0m \n\u001b[1;32m    354\u001b[0m \u001b[39mThis method should generally be left untouched. Changes should be implemented using\u001b[39;00m\n\u001b[0;32m   (...)\u001b[0m\n\u001b[1;32m    361\u001b[0m \n\u001b[1;32m    362\u001b[0m \u001b[39m\"\"\"\u001b[39;00m\n\u001b[1;32m    363\u001b[0m output_spec \u001b[39m=\u001b[39m output_spec\u001b[39m.\u001b[39mclone()\n\u001b[0;32m--> 364\u001b[0m output_spec[\u001b[39m\"\u001b[39m\u001b[39mfull_observation_spec\u001b[39m\u001b[39m\"\u001b[39m] \u001b[39m=\u001b[39m \u001b[39mself\u001b[39;49m\u001b[39m.\u001b[39;49mtransform_observation_spec(\n\u001b[1;32m    365\u001b[0m     output_spec[\u001b[39m\"\u001b[39;49m\u001b[39mfull_observation_spec\u001b[39;49m\u001b[39m\"\u001b[39;49m]\n\u001b[1;32m    366\u001b[0m )\n\u001b[1;32m    367\u001b[0m \u001b[39mif\u001b[39;00m \u001b[39m\"\u001b[39m\u001b[39mfull_reward_spec\u001b[39m\u001b[39m\"\u001b[39m \u001b[39min\u001b[39;00m output_spec\u001b[39m.\u001b[39mkeys():\n\u001b[1;32m    368\u001b[0m     output_spec[\u001b[39m\"\u001b[39m\u001b[39mfull_reward_spec\u001b[39m\u001b[39m\"\u001b[39m] \u001b[39m=\u001b[39m \u001b[39mself\u001b[39m\u001b[39m.\u001b[39mtransform_reward_spec(\n\u001b[1;32m    369\u001b[0m         output_spec[\u001b[39m\"\u001b[39m\u001b[39mfull_reward_spec\u001b[39m\u001b[39m\"\u001b[39m]\n\u001b[1;32m    370\u001b[0m     )\n",
      "File \u001b[0;32m~/miniconda3/envs/game/lib/python3.9/site-packages/torchrl/envs/transforms/transforms.py:76\u001b[0m, in \u001b[0;36m_apply_to_composite.<locals>.new_fun\u001b[0;34m(self, observation_spec)\u001b[0m\n\u001b[1;32m     74\u001b[0m     \u001b[39mfor\u001b[39;00m in_key, out_key \u001b[39min\u001b[39;00m \u001b[39mzip\u001b[39m(in_keys, out_keys):\n\u001b[1;32m     75\u001b[0m         \u001b[39mif\u001b[39;00m in_key \u001b[39min\u001b[39;00m observation_spec\u001b[39m.\u001b[39mkeys(\u001b[39mTrue\u001b[39;00m, \u001b[39mTrue\u001b[39;00m):\n\u001b[0;32m---> 76\u001b[0m             _specs[out_key] \u001b[39m=\u001b[39m function(\u001b[39mself\u001b[39;49m, observation_spec[in_key]\u001b[39m.\u001b[39;49mclone())\n\u001b[1;32m     77\u001b[0m     \u001b[39mreturn\u001b[39;00m CompositeSpec(\n\u001b[1;32m     78\u001b[0m         _specs, shape\u001b[39m=\u001b[39mobservation_spec\u001b[39m.\u001b[39mshape, device\u001b[39m=\u001b[39mobservation_spec\u001b[39m.\u001b[39mdevice\n\u001b[1;32m     79\u001b[0m     )\n\u001b[1;32m     80\u001b[0m \u001b[39melse\u001b[39;00m:\n",
      "File \u001b[0;32m~/miniconda3/envs/game/lib/python3.9/site-packages/torchrl/envs/transforms/transforms.py:2563\u001b[0m, in \u001b[0;36mObservationNorm.transform_observation_spec\u001b[0;34m(self, observation_spec)\u001b[0m\n\u001b[1;32m   2561\u001b[0m space \u001b[39m=\u001b[39m observation_spec\u001b[39m.\u001b[39mspace\n\u001b[1;32m   2562\u001b[0m \u001b[39mif\u001b[39;00m \u001b[39misinstance\u001b[39m(space, ContinuousBox):\n\u001b[0;32m-> 2563\u001b[0m     space\u001b[39m.\u001b[39mlow \u001b[39m=\u001b[39m \u001b[39mself\u001b[39;49m\u001b[39m.\u001b[39;49m_apply_transform(space\u001b[39m.\u001b[39;49mlow)\n\u001b[1;32m   2564\u001b[0m     space\u001b[39m.\u001b[39mhigh \u001b[39m=\u001b[39m \u001b[39mself\u001b[39m\u001b[39m.\u001b[39m_apply_transform(space\u001b[39m.\u001b[39mhigh)\n\u001b[1;32m   2565\u001b[0m \u001b[39mreturn\u001b[39;00m observation_spec\n",
      "File \u001b[0;32m~/miniconda3/envs/game/lib/python3.9/site-packages/torchrl/envs/transforms/transforms.py:2542\u001b[0m, in \u001b[0;36mObservationNorm._apply_transform\u001b[0;34m(self, obs)\u001b[0m\n\u001b[1;32m   2540\u001b[0m scale \u001b[39m=\u001b[39m \u001b[39mself\u001b[39m\u001b[39m.\u001b[39mscale\n\u001b[1;32m   2541\u001b[0m loc \u001b[39m=\u001b[39m \u001b[39mself\u001b[39m\u001b[39m.\u001b[39mloc\n\u001b[0;32m-> 2542\u001b[0m \u001b[39mreturn\u001b[39;00m obs \u001b[39m*\u001b[39;49m scale \u001b[39m+\u001b[39m loc\n",
      "\u001b[0;31mRuntimeError\u001b[0m: The size of tensor a (140) must match the size of tensor b (141) at non-singleton dimension 1"
     ]
    }
   ],
   "source": [
    "env.action_spec"
   ]
  },
  {
   "cell_type": "code",
   "execution_count": 5,
   "metadata": {},
   "outputs": [],
   "source": [
    "actor = ProbabilisticActor(\n",
    "    policy_module,\n",
    "    spec=env.action_spec,\n",
    "    in_keys=[\"action\"],\n",
    ")"
   ]
  },
  {
   "cell_type": "code",
   "execution_count": 6,
   "metadata": {},
   "outputs": [
    {
     "data": {
      "text/plain": [
       "<bound method TransformedEnv.load_state_dict of TransformedEnv(\n",
       "    env=EnvironmentForRL(),\n",
       "    transform=Compose(\n",
       "            ObservationNorm(keys=['obs']),\n",
       "            StepCounter(keys=[])))>"
      ]
     },
     "execution_count": 6,
     "metadata": {},
     "output_type": "execute_result"
    }
   ],
   "source": [
    "env.load_state_dict"
   ]
  },
  {
   "cell_type": "code",
   "execution_count": 9,
   "metadata": {},
   "outputs": [
    {
     "data": {
      "text/plain": [
       "ObservationNorm(keys=['obs'])"
      ]
     },
     "execution_count": 9,
     "metadata": {},
     "output_type": "execute_result"
    }
   ],
   "source": [
    "env.transform[0]"
   ]
  },
  {
   "cell_type": "code",
   "execution_count": null,
   "metadata": {},
   "outputs": [],
   "source": []
  },
  {
   "cell_type": "code",
   "execution_count": null,
   "metadata": {},
   "outputs": [],
   "source": []
  }
 ],
 "metadata": {
  "kernelspec": {
   "display_name": "game",
   "language": "python",
   "name": "python3"
  },
  "language_info": {
   "codemirror_mode": {
    "name": "ipython",
    "version": 3
   },
   "file_extension": ".py",
   "mimetype": "text/x-python",
   "name": "python",
   "nbconvert_exporter": "python",
   "pygments_lexer": "ipython3",
   "version": "3.9.19"
  },
  "orig_nbformat": 4
 },
 "nbformat": 4,
 "nbformat_minor": 2
}
